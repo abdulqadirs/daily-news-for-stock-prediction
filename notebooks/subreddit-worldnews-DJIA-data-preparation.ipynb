{
 "cells": [
  {
   "cell_type": "code",
   "execution_count": 6,
   "metadata": {},
   "outputs": [],
   "source": [
    "import pandas as pd\n",
    "from nltk.tokenize import word_tokenize\n",
    "from nltk.corpus import stopwords\n",
    "import string\n",
    "import nltk\n",
    "import itertools"
   ]
  },
  {
   "cell_type": "code",
   "execution_count": 8,
   "metadata": {},
   "outputs": [
    {
     "name": "stdout",
     "output_type": "stream",
     "text": [
      "(4359, 2)\n",
      "0    2008-03-01\n",
      "1    2008-03-02\n",
      "2    2008-03-03\n",
      "3    2008-03-04\n",
      "4    2008-03-05\n",
      "Name: Date, dtype: object\n"
     ]
    }
   ],
   "source": [
    "path = '../datasets/subreddit-worldnews-DJIA-dataset/subreddit-worldnews.txt'\n",
    "data = pd.read_csv(path, sep='\\t')\n",
    "dates = data['Date']\n",
    "news = data['News']\n",
    "daily_news = data.groupby(\"Date\")['News'].apply('<.>'.join).reset_index()\n",
    "print(daily_news.shape)\n",
    "print(daily_news['Date'].head(5))"
   ]
  },
  {
   "cell_type": "code",
   "execution_count": 10,
   "metadata": {},
   "outputs": [
    {
     "name": "stdout",
     "output_type": "stream",
     "text": [
      "(3003, 2)\n",
      "         Date  Label\n",
      "0  2008-03-03  False\n",
      "1  2008-03-04  False\n",
      "2  2008-03-05   True\n",
      "3  2008-03-06  False\n",
      "4  2008-03-07  False\n"
     ]
    }
   ],
   "source": [
    "path = '../datasets/subreddit-worldnews-DJIA-dataset/^DJI.csv'\n",
    "stock_data = pd.read_csv(path)\n",
    "date = pd.DataFrame(stock_data['Date'])\n",
    "open_value = stock_data['Open']\n",
    "close_value = stock_data['Close']\n",
    "result = pd.DataFrame(close_value >= open_value, columns=['Label'])\n",
    "market_trend = date.join(result)\n",
    "print(market_trend.shape)\n",
    "print(market_trend.head(5))"
   ]
  },
  {
   "cell_type": "code",
   "execution_count": 11,
   "metadata": {},
   "outputs": [
    {
     "name": "stdout",
     "output_type": "stream",
     "text": [
      "(3003, 3)\n",
      "         Date  Label                                               News\n",
      "0  2008-03-03  False  War brewing as Colombia raids Ecuador, kills F...\n",
      "1  2008-03-04  False  The Gaza Bombshell: \"Vanity Fair\" reports on h...\n",
      "2  2008-03-05   True  Colombian President to bring genocide charges ...\n",
      "3  2008-03-06  False  Do Colombia and the US want war in South Ameri...\n",
      "4  2008-03-07  False  A gay teenager who sought sanctuary in Britain...\n"
     ]
    }
   ],
   "source": [
    "merged_data = pd.merge(daily_news, market_trend, on='Date')\n",
    "merged_data = merged_data[['Date', 'Label', 'News']]\n",
    "print(merged_data.shape)\n",
    "print(merged_data.head(5))"
   ]
  },
  {
   "cell_type": "code",
   "execution_count": 12,
   "metadata": {},
   "outputs": [],
   "source": [
    "path = '../datasets/subreddit-worldnews-DJIA-dataset/combined-rworldnews-DJIA.txt'\n",
    "merged_data.to_csv(path, sep='\\t', index=False)"
   ]
  },
  {
   "cell_type": "code",
   "execution_count": 14,
   "metadata": {},
   "outputs": [
    {
     "name": "stdout",
     "output_type": "stream",
     "text": [
      "(3003, 3)\n"
     ]
    }
   ],
   "source": [
    "path = '../datasets/subreddit-worldnews-DJIA-dataset/combined-rworldnews-DJIA.txt'\n",
    "data = pd.read_csv(path, sep='\\t')\n",
    "print(data.shape)"
   ]
  },
  {
   "cell_type": "code",
   "execution_count": null,
   "metadata": {},
   "outputs": [],
   "source": []
  }
 ],
 "metadata": {
  "kernelspec": {
   "display_name": "Python 3",
   "language": "python",
   "name": "python3"
  },
  "language_info": {
   "codemirror_mode": {
    "name": "ipython",
    "version": 3
   },
   "file_extension": ".py",
   "mimetype": "text/x-python",
   "name": "python",
   "nbconvert_exporter": "python",
   "pygments_lexer": "ipython3",
   "version": "3.7.4"
  }
 },
 "nbformat": 4,
 "nbformat_minor": 2
}
