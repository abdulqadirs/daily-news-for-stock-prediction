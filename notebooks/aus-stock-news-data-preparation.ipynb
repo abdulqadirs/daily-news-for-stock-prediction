{
 "cells": [
  {
   "cell_type": "code",
   "execution_count": 1,
   "metadata": {},
   "outputs": [],
   "source": [
    "import pandas as pd\n",
    "from nltk.tokenize import word_tokenize\n",
    "from nltk.corpus import stopwords\n",
    "import string\n",
    "import nltk\n",
    "import itertools"
   ]
  },
  {
   "cell_type": "code",
   "execution_count": 2,
   "metadata": {},
   "outputs": [
    {
     "name": "stdout",
     "output_type": "stream",
     "text": [
      "       Date                                               News\n",
      "0  20030219  aba decides against community broadcasting lic...\n",
      "1  20030220  15 dead in rebel bombing raid philippines army...\n",
      "2  20030221  accc too timid in petrol price investigations<...\n",
      "3  20030222  86 confirmed dead after us nightclub fire<.>ac...\n",
      "4  20030223  accused people smuggler to face darwin court<....\n",
      "(6152, 2)\n",
      "         Date                                               News\n",
      "0  2003-02-19  aba decides against community broadcasting lic...\n",
      "1  2003-02-20  15 dead in rebel bombing raid philippines army...\n",
      "2  2003-02-21  accc too timid in petrol price investigations<...\n",
      "3  2003-02-22  86 confirmed dead after us nightclub fire<.>ac...\n",
      "4  2003-02-23  accused people smuggler to face darwin court<....\n"
     ]
    }
   ],
   "source": [
    "path = '../datasets/australian-stock-exchange/abcnews-date-text.csv'\n",
    "data = pd.read_csv(path)\n",
    "data.columns = ['Date', 'News']\n",
    "daily_news = data.groupby(\"Date\")['News'].apply('<.>'.join).reset_index()\n",
    "print(daily_news.head(5))\n",
    "date = daily_news[\"Date\"]\n",
    "daily_news['Date'] = daily_news.Date.apply(str)\n",
    "for i, d in enumerate(date):\n",
    "    d = str(d)\n",
    "    year = d[0:4]\n",
    "    month = d[4:6]\n",
    "    day = d[6:8]\n",
    "    new_date = year + '-' + month + '-' + day\n",
    "    daily_news.at[i, 'Date'] = new_date\n",
    "print(daily_news.shape)\n",
    "print(daily_news.head(5))"
   ]
  },
  {
   "cell_type": "code",
   "execution_count": 3,
   "metadata": {},
   "outputs": [
    {
     "name": "stdout",
     "output_type": "stream",
     "text": [
      "(4279, 2)\n",
      "         Date  Label\n",
      "0  2003-02-19   True\n",
      "1  2003-02-20  False\n",
      "2  2003-02-21   True\n",
      "3  2003-02-24   True\n",
      "4  2003-02-25  False\n"
     ]
    }
   ],
   "source": [
    "path = '../datasets/australian-stock-exchange/S&P-ASX200.csv'\n",
    "data = pd.read_csv(path)\n",
    "date = pd.DataFrame(data['Date'])\n",
    "open_value = data['Open']\n",
    "close_value = data['Close']\n",
    "result = pd.DataFrame(close_value >= open_value, columns=['Label'])\n",
    "market_trend = date.join(result)\n",
    "print(market_trend.shape)\n",
    "print(market_trend.head(5))"
   ]
  },
  {
   "cell_type": "code",
   "execution_count": 4,
   "metadata": {},
   "outputs": [
    {
     "name": "stdout",
     "output_type": "stream",
     "text": [
      "(4273, 3)\n",
      "         Date  Label                                               News\n",
      "0  2003-02-19   True  aba decides against community broadcasting lic...\n",
      "1  2003-02-20  False  15 dead in rebel bombing raid philippines army...\n",
      "2  2003-02-21   True  accc too timid in petrol price investigations<...\n",
      "3  2003-02-24   True  94 dead in china earthquake<.>academic conside...\n",
      "4  2003-02-25  False  4 million pay out for sacked ceo<.>aids organi...\n"
     ]
    }
   ],
   "source": [
    "merged_data = pd.merge(daily_news, market_trend, on='Date')\n",
    "merged_data = merged_data[['Date', 'Label', 'News']]\n",
    "print(merged_data.shape)\n",
    "print(merged_data.head(5))"
   ]
  },
  {
   "cell_type": "code",
   "execution_count": 6,
   "metadata": {},
   "outputs": [],
   "source": [
    "path = '../datasets/australian-stock-exchange/combined-news-stock.txt'\n",
    "merged_data.to_csv(path, sep='\\t', index=False)"
   ]
  },
  {
   "cell_type": "code",
   "execution_count": 8,
   "metadata": {},
   "outputs": [
    {
     "name": "stdout",
     "output_type": "stream",
     "text": [
      "[['aba', 'decides', 'against', 'community', 'broadcasting', 'licence'], ['act', 'fire', 'witnesses', 'must', 'be', 'aware', 'of', 'defamation'], ['a', 'g', 'calls', 'for', 'infrastructure', 'protection', 'summit'], ['air', 'nz', 'staff', 'in', 'aust', 'strike', 'for', 'pay', 'rise'], ['air', 'nz', 'strike', 'to', 'affect', 'australian', 'travellers'], ['ambitious', 'olsson', 'wins', 'triple', 'jump'], ['antic', 'delighted', 'with', 'record', 'breaking', 'barca'], ['aussie', 'qualifier', 'stosur', 'wastes', 'four', 'memphis', 'match'], ['aust', 'addresses', 'un', 'security', 'council', 'over', 'iraq'], ['australia', 'is', 'locked', 'into', 'war', 'timetable', 'opp'], ['australia', 'to', 'contribute', 'million', 'in', 'aid', 'to', 'iraq'], ['barca', 'take', 'record', 'as', 'robson', 'celebrates', 'birthday', 'in'], ['bathhouse', 'plans', 'move', 'ahead'], ['big', 'hopes', 'for', 'launceston', 'cycling', 'championship'], ['big', 'plan', 'to', 'boost', 'paroo', 'water', 'supplies'], ['blizzard', 'buries', 'united', 'states', 'in', 'bills'], ['brigadier', 'dismisses', 'reports', 'troops', 'harassed', 'in'], ['british', 'combat', 'troops', 'arriving', 'daily', 'in', 'kuwait'], ['bryant', 'leads', 'lakers', 'to', 'double', 'overtime', 'win'], ['bushfire', 'victims', 'urged', 'to', 'see', 'centrelink'], ['businesses', 'should', 'prepare', 'for', 'terrorist', 'attacks'], ['calleri', 'avenges', 'final', 'defeat', 'to', 'eliminate', 'massu'], ['call', 'for', 'ethanol', 'blend', 'fuel', 'to', 'go', 'ahead'], ['carews', 'freak', 'goal', 'leaves', 'roma', 'in', 'ruins'], ['cemeteries', 'miss', 'out', 'on', 'funds'], ['code', 'of', 'conduct', 'toughens', 'organ', 'donation', 'regulations'], ['commonwealth', 'bank', 'cuts', 'fixed', 'home', 'loan', 'rates'], ['community', 'urged', 'to', 'help', 'homeless', 'youth'], ['council', 'chief', 'executive', 'fails', 'to', 'secure', 'position'], ['councillor', 'to', 'contest', 'wollongong', 'as', 'independent'], ['council', 'moves', 'to', 'protect', 'tas', 'heritage', 'garden'], ['council', 'welcomes', 'ambulance', 'levy', 'decision'], ['council', 'welcomes', 'insurance', 'breakthrough'], ['crean', 'tells', 'alp', 'leadership', 'critics', 'to', 'shut', 'up'], ['dargo', 'fire', 'threat', 'expected', 'to', 'rise'], ['death', 'toll', 'continues', 'to', 'climb', 'in', 'south', 'korean', 'subway'], ['dems', 'hold', 'plebiscite', 'over', 'iraqi', 'conflict'], ['dent', 'downs', 'philippoussis', 'in', 'tie', 'break', 'thriller'], ['de', 'villiers', 'to', 'learn', 'fate', 'on', 'march'], ['digital', 'tv', 'will', 'become', 'commonplace', 'summit'], ['direct', 'anger', 'at', 'govt', 'not', 'soldiers', 'crean', 'urges'], ['dispute', 'over', 'at', 'smithton', 'vegetable', 'processing', 'plant'], ['dog', 'mauls', 'month', 'old', 'toddler', 'in', 'nsw'], ['dying', 'korean', 'subway', 'passengers', 'phoned', 'for', 'help'], ['england', 'change', 'three', 'for', 'wales', 'match'], ['epa', 'still', 'trying', 'to', 'recover', 'chemical', 'clean', 'up', 'costs'], ['expressions', 'of', 'interest', 'sought', 'to', 'build', 'livestock'], ['fed', 'opp', 'to', 're', 'introduce', 'national', 'insurance'], ['firefighters', 'contain', 'acid', 'spill'], ['four', 'injured', 'in', 'head', 'on', 'highway', 'crash'], ['freedom', 'records', 'net', 'profit', 'for', 'third', 'successive'], ['funds', 'allocated', 'for', 'domestic', 'violence', 'victims'], ['funds', 'allocated', 'for', 'youth', 'at', 'risk'], ['funds', 'announced', 'for', 'bridge', 'work'], ['funds', 'to', 'go', 'to', 'cadell', 'upgrade'], ['funds', 'to', 'help', 'restore', 'cossack'], ['german', 'court', 'to', 'give', 'verdict', 'on', 'sept', 'accused'], ['gilchrist', 'backs', 'rest', 'policy'], ['girl', 'injured', 'in', 'head', 'on', 'highway', 'crash'], ['gold', 'coast', 'to', 'hear', 'about', 'bilby', 'project'], ['golf', 'club', 'feeling', 'smoking', 'ban', 'impact'], ['govt', 'is', 'to', 'blame', 'for', 'ethanols', 'unpopularity', 'opp'], ['greens', 'offer', 'police', 'station', 'alternative'], ['griffiths', 'under', 'fire', 'over', 'project', 'knock', 'back'], ['group', 'to', 'meet', 'in', 'north', 'west', 'wa', 'over', 'rock', 'art'], ['hacker', 'gains', 'access', 'to', 'eight', 'million', 'credit', 'cards'], ['hanson', 'is', 'grossly', 'naive', 'over', 'nsw', 'issues', 'costa'], ['hanson', 'should', 'go', 'back', 'where', 'she', 'came', 'from', 'nsw', 'mp'], ['harrington', 'raring', 'to', 'go', 'after', 'break'], ['health', 'minister', 'backs', 'organ', 'and', 'tissue', 'storage'], ['heavy', 'metal', 'deposits', 'survey', 'nearing', 'end'], ['injured', 'rios', 'pulls', 'out', 'of', 'buenos', 'aires', 'open'], ['inquest', 'finds', 'mans', 'death', 'accidental'], ['investigations', 'underway', 'into', 'death', 'toll', 'of', 'korean'], ['investigation', 'underway', 'into', 'elster', 'creek', 'spill'], ['iraqs', 'neighbours', 'plead', 'for', 'continued', 'un', 'inspections'], ['iraq', 'to', 'pay', 'for', 'own', 'rebuilding', 'white', 'house'], ['irish', 'man', 'arrested', 'over', 'omagh', 'bombing'], ['irrigators', 'vote', 'over', 'river', 'management'], ['israeli', 'forces', 'push', 'into', 'gaza', 'strip'], ['jury', 'to', 'consider', 'verdict', 'in', 'murder', 'case'], ['juvenile', 'sex', 'offenders', 'unlikely', 'to', 'reoffend', 'as'], ['kelly', 'disgusted', 'at', 'alleged', 'bp', 'ethanol', 'scare'], ['kelly', 'not', 'surprised', 'ethanol', 'confidence', 'low'], ['korean', 'subway', 'fire', 'still', 'missing'], ['last', 'minute', 'call', 'hands', 'alinghi', 'big', 'lead'], ['low', 'demand', 'forces', 'air', 'service', 'cuts'], ['man', 'arrested', 'after', 'central', 'qld', 'hijack', 'attempt'], ['man', 'charged', 'over', 'cooma', 'murder'], ['man', 'fined', 'after', 'aboriginal', 'tent', 'embassy', 'raid'], ['man', 'jailed', 'over', 'keno', 'fraud'], ['man', 'with', 'knife', 'hijacks', 'light', 'plane'], ['martin', 'to', 'lobby', 'against', 'losing', 'nt', 'seat', 'in', 'fed'], ['massive', 'drug', 'crop', 'discovered', 'in', 'western', 'nsw'], ['mayor', 'warns', 'landfill', 'protesters'], ['meeting', 'to', 'consider', 'tick', 'clearance', 'costs'], ['meeting', 'to', 'focus', 'on', 'broken', 'hill', 'water', 'woes'], ['moderate', 'lift', 'in', 'wages', 'growth'], ['more', 'than', 'pc', 'of', 'young', 'men', 'drink', 'alcohol', 'at'], ['more', 'water', 'restrictions', 'predicted', 'for', 'northern', 'tas'], ['more', 'women', 'urged', 'to', 'become', 'councillors'], ['most', 'highly', 'educated', 'live', 'in', 'nsw', 'wa'], ['mp', 'raises', 'hospital', 'concerns', 'in', 'parliament'], ['mp', 'rejects', 'ambulance', 'levy', 'claims'], ['mugabe', 'to', 'touch', 'down', 'in', 'paris', 'for', 'summit'], ['national', 'gallery', 'gets', 'all', 'clear', 'after'], ['nato', 'gives', 'green', 'light', 'to', 'defend', 'turkey'], ['nca', 'defends', 'aboriginal', 'tent', 'embassy', 'raid'], ['new', 'zealand', 'imposes', 'visa', 'entry', 'for', 'zimbabwe'], ['no', 'side', 'effects', 'for', 'new', 'whooping', 'cough', 'vaccine'], ['nsw', 'govt', 'under', 'fire', 'for', 'holding', 'back', 'vegetation'], ['nsw', 'opp', 'defends', 'claims', 'of', 'running', 'race', 'campaign'], ['nsw', 'opp', 'pledges', 'drought', 'relief'], ['nt', 'govt', 'boosts', 'nurse', 'number', 'with', 'overseas', 'intake'], ['nth', 'koreans', 'seek', 'asylum', 'at', 'japanese', 'embassy'], ['nursing', 'student', 'intake', 'down'], ['oh', 'brother', 'your', 'times', 'up', 'says', 'ganguly', 'senior'], ['omodei', 'to', 'stay', 'in', 'politics'], ['onesteel', 'to', 'invest', 'in', 'whyalla', 'steelworks'], ['opposition', 'urged', 'to', 'help', 'protect', 'recherche', 'bay'], ['orientation', 'begins', 'for', 'uni', 'students'], ['osullivan', 'in', 'world', 'cross', 'country', 'doubt'], ['pagan', 'says', 'rule', 'changes', 'not', 'necessary'], ['pair', 'to', 'face', 'court', 'over', 'ayr', 'murder'], ['patterson', 'defends', 'decision', 'not', 'to', 'attend', 'health'], ['patterson', 'no', 'show', 'displays', 'govts', 'arrogance', 'crean'], ['patterson', 'snubs', 'health', 'meeting', 'to', 'avoid', 'lions', 'den'], ['peace', 'agreement', 'may', 'bring', 'respite', 'for', 'venezuela'], ['pienaar', 'shines', 'as', 'ajax', 'frustrate', 'arsenal'], ['plan', 'for', 'second', 'skatepark'], ['plan', 'to', 'encourage', 'farmers', 'into', 'plantation', 'timber'], ['png', 'nurses', 'strike', 'after', 'colleague', 'raped', 'on', 'way', 'to'], ['police', 'cracking', 'down', 'on', 'driver', 'safety'], ['police', 'defend', 'aboriginal', 'tent', 'embassy', 'raid'], ['policewomen', 'accusations', 'feature', 'at', 'federal', 'crime'], ['probe', 'launched', 'into', 'plane', 'crash'], ['program', 'to', 'monitor', 'forest', 'harvested', 'areas'], ['public', 'urged', 'to', 'check', 'gas', 'cylinders'], ['public', 'warned', 'about', 'phone', 'scam'], ['qantas', 'international', 'crews', 'to', 'strike', 'over', 'pay'], ['qantas', 'war', 'plan', 'to', 'cut', 'jobs', 'outrages', 'unions'], ['qr', 'not', 'planning', 'northern', 'route', 'sackings'], ['questions', 'public', 'anger', 'grows', 'after', 'korean', 'subway'], ['rabbit', 'control', 'program', 'on', 'trial'], ['radioactive', 'spill', 'at', 'wmcs', 'olympic', 'dam', 'mine'], ['rain', 'eases', 'wheatbelt', 'water', 'woes'], ['reading', 'go', 'third', 'in', 'first', 'division'], ['record', 'amount', 'for', 'gladstone', 'ventures'], ['refshauge', 'wins', 'defamation', 'court', 'case'], ['regulator', 'to', 'inspect', 'gm', 'canola', 'trials'], ['report', 'highlights', 'container', 'terminal', 'potential'], ['resource', 'stocks', 'boost', 'all', 'ords'], ['restraint', 'order', 'issued', 'against', 'anti', 'discrimination'], ['rfs', 'rejects', 'claim', 'that', 'act', 'authorities', 'spurned'], ['ricciuto', 'undergoes', 'surgery', 'on', 'injured', 'ankle'], ['rice', 'mill', 'closures', 'to', 'put', 'out', 'of', 'work'], ['rsl', 'angry', 'about', 'reports', 'of', 'troop', 'harassment'], ['safety', 'review', 'begins', 'after', 'bushwalker', 'death'], ['sa', 'premier', 'calls', 'for', 'action', 'over', 'river', 'murray'], ['saudi', 'arabians', 'to', 'stand', 'trial', 'over', 'al', 'qaeda'], ['saudi', 'arabia', 'tells', 'arabs', 'war', 'on', 'iraq', 'inevitable'], ['search', 'continues', 'for', 'victims', 'in', 'south', 'korean', 'subway'], ['second', 'resolution', 'on', 'iraq', 'expected', 'shortly', 'un'], ['shire', 'offers', 'assurances', 'over', 'finances'], ['six', 'palestinians', 'killed', 'in', 'gaza', 'incursion'], ['slow', 'recovery', 'predicted', 'for', 'aust', 'economy'], ['smoking', 'bans', 'hit', 'tabcorp', 'bottom', 'line'], ['snowtown', 'murder', 'trial', 'delayed'], ['states', 'may', 'be', 'forced', 'to', 'label', 'ethanol', 'fuel'], ['stations', 'to', 'get', 'fixed', 'home', 'phone', 'service'], ['sterrey', 'to', 'steer', 'sharks'], ['still', 'no', 'sign', 'of', 'missing', 'fisherman'], ['stop', 'changing', 'the', 'rules', 'fans', 'tell', 'afl'], ['sugar', 'industry', 'plan', 'to', 'be', 'revealed'], ['surge', 'in', 'new', 'car', 'sales', 'in', 'aust', 'abs'], ['swiss', 'challengers', 'looking', 'to', 'future'], ['taipans', 'placing', 'future', 'in', 'publics', 'hands'], ['talk', 'of', 'asian', 'nuclear', 'arms', 'race', 'unhelpful', 'downer'], ['tasmanian', 'scientists', 'to', 'search', 'for', 'east', 'coast'], ['taylor', 'denies', 'calling', 'on', 'waugh', 'to', 'quit'], ['teen', 'to', 'face', 'court', 'over', 'drug', 'charges'], ['testing', 'shows', 'dioxin', 'above', 'drinking', 'water', 'standards'], ['thousands', 'remember', 'anniversary', 'of', 'darwin'], ['unions', 'to', 'ask', 'members', 'to', 'support', 'public', 'protests'], ['uni', 'to', 'continue', 'tree', 'disease', 'study'], ['us', 'british', 'aircraft', 'attack', 'sth', 'iraq', 'target'], ['vff', 'to', 'buy', 'stock', 'feed', 'pellets', 'for', 'fire', 'affected'], ['vic', 'local', 'councils', 'welcome', 'single', 'polling', 'day'], ['victorian', 'scientists', 'honoured', 'at', 'awards'], ['vowles', 'to', 'retire', 'at', 'end', 'of', 'season'], ['wales', 'coach', 'accuses', 'players', 'of', 'belittling', 'red'], ['warne', 'hearing', 'set', 'for', 'friday'], ['webb', 'favourite', 'for', 'ladies', 'masters'], ['widnes', 'abandon', 'paul', 'bid'], ['wildlife', 'sanctuaries', 'plan', 'revealed'], ['williams', 'says', 'tight', 'bowling', 'key', 'to', 'warriors', 'win'], ['wine', 'chief', 'bounces', 'back', 'from', 'sacking'], ['worksafe', 'probes', 'potato', 'harvester', 'injuries']]\n"
     ]
    }
   ],
   "source": [
    "path = '../datasets/australian-stock-exchange/combined-news-stock.txt'\n",
    "data = pd.read_csv(path, sep=\"\\t\")\n",
    "# date = data['Date']\n",
    "# label = data['Label']\n",
    "# news = data['News']\n",
    "all_news = {}\n",
    "for index, row in data.iterrows():\n",
    "    news = row['News']\n",
    "    date = row['Date']\n",
    "    headlines = news.split(\"<.>\")\n",
    "    daily_headlines = []\n",
    "    for headline in headlines:\n",
    "        #headline = headline.strip('\"b')\n",
    "        #converting the sentences into words\n",
    "        tokens = word_tokenize(headline)\n",
    "        #converting to lowercas\n",
    "        #tokens = [w.lower() for w in tokens]\n",
    "        #remvoing non english alphabetic character\n",
    "        words = [word for word in tokens if word.isalpha()]\n",
    "        #removing the stop words\n",
    "        #words = [w for w in words if not w in stop_words]\n",
    "        #print(words)\n",
    "        daily_headlines.append(words)\n",
    "        all_news[date] = daily_headlines\n",
    "        \n",
    "for n in all_news:\n",
    "    print(all_news[n])\n",
    "    break"
   ]
  },
  {
   "cell_type": "code",
   "execution_count": null,
   "metadata": {},
   "outputs": [],
   "source": []
  }
 ],
 "metadata": {
  "kernelspec": {
   "display_name": "Python 3",
   "language": "python",
   "name": "python3"
  },
  "language_info": {
   "codemirror_mode": {
    "name": "ipython",
    "version": 3
   },
   "file_extension": ".py",
   "mimetype": "text/x-python",
   "name": "python",
   "nbconvert_exporter": "python",
   "pygments_lexer": "ipython3",
   "version": "3.7.4"
  }
 },
 "nbformat": 4,
 "nbformat_minor": 2
}
