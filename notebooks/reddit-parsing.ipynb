{
 "cells": [
  {
   "cell_type": "code",
   "execution_count": 1,
   "metadata": {},
   "outputs": [],
   "source": [
    "import praw\n",
    "from psaw import PushshiftAPI\n",
    "import datetime\n",
    "from datetime import timedelta, date\n",
    "import pandas as pd "
   ]
  },
  {
   "cell_type": "code",
   "execution_count": 2,
   "metadata": {},
   "outputs": [],
   "source": [
    "c_id = ''\n",
    "c_secret = ''\n",
    "username = ''\n",
    "password = ''\n",
    "targetSubreddit = 'worldnews'\n",
    "reddit = praw.Reddit(client_id = c_id,\n",
    "                     client_secret = c_secret,\n",
    "                     username = username,\n",
    "                     password = password,\n",
    "                     user_agent= targetSubreddit\n",
    "                    )"
   ]
  },
  {
   "cell_type": "code",
   "execution_count": 3,
   "metadata": {},
   "outputs": [],
   "source": [
    "api = PushshiftAPI(reddit)"
   ]
  },
  {
   "cell_type": "code",
   "execution_count": 4,
   "metadata": {},
   "outputs": [],
   "source": [
    "start_date = date(2020, 2, 1) #(year, month, day)\n",
    "end_date = date(2020, 2, 2)\n",
    "df = pd.DataFrame(columns=['Date', 'Num_comments', 'News'])"
   ]
  },
  {
   "cell_type": "code",
   "execution_count": 5,
   "metadata": {},
   "outputs": [],
   "source": [
    "def daterange(start_date, end_date):\n",
    "    for n in range(int ((end_date - start_date).days)):\n",
    "        yield start_date + timedelta(n)"
   ]
  },
  {
   "cell_type": "code",
   "execution_count": 6,
   "metadata": {},
   "outputs": [
    {
     "name": "stdout",
     "output_type": "stream",
     "text": [
      "Total:  0\n"
     ]
    }
   ],
   "source": [
    "i = 0\n",
    "for single_date in daterange(start_date, end_date):\n",
    "    sigle_date = single_date.strftime(\"%Y-%m-%d\")\n",
    "    year = single_date.year\n",
    "    month = single_date.month\n",
    "    day = single_date.day\n",
    "    start_epoch=int(datetime.datetime(year, month, day, 0, 0, 0).timestamp()) #year, month, day,hour, minutes, seconds\n",
    "    end_epoch=int(datetime.datetime(year, month, day, 23, 59, 59).timestamp())\n",
    "    #end_epoch =  dt.datetime.now().timestamp()\n",
    "    try:\n",
    "        submissions = list(api.search_submissions(after = start_epoch, before = end_epoch, subreddit = targetSubreddit, \n",
    "                                          filter=['title'], limit = 30, sort = 'desc', sort_type = 'num_comments'))\n",
    "    except:\n",
    "        continue\n",
    "\n",
    "    for submission in submissions:\n",
    "        time = submission.created\n",
    "        date = datetime.datetime.fromtimestamp(time).strftime(\"%Y-%m-%d\")\n",
    "        df.loc[i] = [date, submission.num_comments, submission.title]\n",
    "        i = i + 1\n",
    "        #print(i)\n",
    "        # print(submission.num_comments)\n",
    "        #print(date)\n",
    "        # print(submission.title)\n",
    "print(\"Total: \", i)"
   ]
  },
  {
   "cell_type": "markdown",
   "metadata": {},
   "source": [
    "#### Sorting the Data and Saving It "
   ]
  },
  {
   "cell_type": "code",
   "execution_count": 7,
   "metadata": {},
   "outputs": [
    {
     "name": "stdout",
     "output_type": "stream",
     "text": [
      "Empty DataFrame\n",
      "Columns: [Date, Num_comments, News]\n",
      "Index: []\n",
      "Empty DataFrame\n",
      "Columns: [Date, Num_comments, News]\n",
      "Index: []\n"
     ]
    }
   ],
   "source": [
    "print(df.head(5))\n",
    "df = df.sort_values(['Date', 'Num_comments'], ascending=[True, False])\n",
    "#df = df.sort_values(by='Date')\n",
    "#daily_news = df.groupby(\"Date\")['News'].apply('<.>'.join).reset_index()\n",
    "print(df.head(4))\n",
    "#path = '../datasets/subreddit-worldnews-DJIA-dataset/raw-subreddit-worldnews.txt'\n",
    "#df.to_csv(path, sep='\\t', index=False, mode='a', header=False)"
   ]
  },
  {
   "cell_type": "markdown",
   "metadata": {},
   "source": [
    "#### Deleting the 'Num_comments' column and Saving the Modified Data."
   ]
  },
  {
   "cell_type": "code",
   "execution_count": 8,
   "metadata": {},
   "outputs": [
    {
     "name": "stdout",
     "output_type": "stream",
     "text": [
      "         Date  Num_comments                                               News\n",
      "0  2008-03-01           105      Israeli minister vows Palestinian 'holocaust'\n",
      "1  2008-03-01             3          Construction in Michigan Has Gone Too Far\n",
      "2  2008-03-01             2  Iraq was everyone’s loss, whichever side you w...\n",
      "3  2008-03-01             1  How the BBC has bid £400m of your money for Eu...\n",
      "4  2008-03-01             1  Witch convicted of leaking WWII secrets about ...\n",
      "         Date                                               News\n",
      "0  2008-03-01      Israeli minister vows Palestinian 'holocaust'\n",
      "1  2008-03-01          Construction in Michigan Has Gone Too Far\n",
      "2  2008-03-01  Iraq was everyone’s loss, whichever side you w...\n",
      "3  2008-03-01  How the BBC has bid £400m of your money for Eu...\n",
      "4  2008-03-01  Witch convicted of leaking WWII secrets about ...\n"
     ]
    }
   ],
   "source": [
    "#deleting the Num_comments column\n",
    "path = '../datasets/subreddit-worldnews-DJIA-dataset/raw-subreddit-worldnews.txt'\n",
    "data = pd.read_csv(path, sep=\"\\t\")\n",
    "print(data.head(5))\n",
    "del data['Num_comments']\n",
    "print(data.head(5))\n",
    "#saving the modified data\n",
    "path = '../datasets/subreddit-worldnews-DJIA-dataset/subreddit-worldnews.txt'\n",
    "data.to_csv(path, sep='\\t', index=False)"
   ]
  },
  {
   "cell_type": "code",
   "execution_count": null,
   "metadata": {},
   "outputs": [],
   "source": []
  }
 ],
 "metadata": {
  "kernelspec": {
   "display_name": "Python 3",
   "language": "python",
   "name": "python3"
  },
  "language_info": {
   "codemirror_mode": {
    "name": "ipython",
    "version": 3
   },
   "file_extension": ".py",
   "mimetype": "text/x-python",
   "name": "python",
   "nbconvert_exporter": "python",
   "pygments_lexer": "ipython3",
   "version": "3.7.4"
  }
 },
 "nbformat": 4,
 "nbformat_minor": 2
}
